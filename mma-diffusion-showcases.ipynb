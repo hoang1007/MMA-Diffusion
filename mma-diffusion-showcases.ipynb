{
 "cells": [
  {
   "cell_type": "code",
   "execution_count": 1,
   "metadata": {},
   "outputs": [],
   "source": [
    "import sys\n",
    "from pathlib import Path\n",
    "import ast\n",
    "import astor\n",
    "from importlib.machinery import PathFinder\n",
    "env_dir = Path(sys.executable).parent.parent.as_posix()\n",
    "\n",
    "# Patch transformers CLIP model to add a new argument\n",
    "finder = PathFinder().find_spec('transformers')\n",
    "if finder is None:\n",
    "    raise ImportError('transformers not found')\n",
    "else:\n",
    "    path = Path(finder.origin).parent / 'models' / 'clip' / 'modeling_clip.py'\n",
    "    with open(path, 'r') as f:\n",
    "        tree = ast.parse(f.read())\n",
    "    for node in ast.walk(tree):\n",
    "        if isinstance(node, ast.ClassDef) and node.name == 'CLIPTextModel':\n",
    "            for body in node.body:\n",
    "                if isinstance(body, ast.FunctionDef) and body.name == 'forward':\n",
    "                    arg_name, arg_default_val = 'input_embed', None\n",
    "                    if arg_name not in [arg.arg for arg in body.args.args]:\n",
    "                        # 1. Add extra argument to the forward method\n",
    "                        body.args.args.append(ast.arg(arg=arg_name, annotation=ast.Name(id='Optional[torch.Tensor]', ctx=ast.Load())))\n",
    "                        body.args.defaults.append(ast.Constant(value=arg_default_val))\n",
    "                        # 2. Modify the call to self.text_model within the forward method\n",
    "                        for stmt in body.body:\n",
    "                            if isinstance(stmt, ast.Return) and isinstance(stmt.value, ast.Call):\n",
    "                                new_arg_expr = ast.keyword(arg=arg_name, value=ast.Name(id=arg_name, ctx=ast.Load()))\n",
    "                                stmt.value.keywords.append(new_arg_expr)\n",
    "        \n",
    "        # 3. Modify the CLIPTextTransformer class to add the new argument to the forward method\n",
    "        if isinstance(node, ast.ClassDef) and node.name == 'CLIPTextTransformer':\n",
    "            for body in node.body:\n",
    "                if isinstance(body, ast.FunctionDef) and body.name == 'forward':\n",
    "                    arg_name, arg_default_val = 'input_embed', None\n",
    "                    if arg_name not in [arg.arg for arg in body.args.args]:\n",
    "                        # 1. Add extra argument to the forward method\n",
    "                        body.args.args.append(ast.arg(arg=arg_name, annotation=ast.Name(id='Optional[torch.Tensor]', ctx=ast.Load())))\n",
    "                        body.args.defaults.append(ast.Constant(value=arg_default_val))\n",
    "                        # 2. Modify the call to self.text_model within the forward method\n",
    "                        for i, stmt in enumerate(body.body):\n",
    "                            if isinstance(stmt, ast.Assign) and 'self.embeddings' in astor.to_source(stmt):\n",
    "                                addition_code = 'if input_embed is not None:\\n\\thidden_states = input_embed\\n'\n",
    "                                if_block = ast.parse(addition_code).body\n",
    "                                body.body[i + 1:i + 1] = if_block\n",
    "    with open(path, 'w') as f:\n",
    "        f.write(astor.to_source(tree))"
   ]
  }
 ],
 "metadata": {
  "kernelspec": {
   "display_name": "Python 3",
   "language": "python",
   "name": "python3"
  },
  "language_info": {
   "codemirror_mode": {
    "name": "ipython",
    "version": 3
   },
   "file_extension": ".py",
   "mimetype": "text/x-python",
   "name": "python",
   "nbconvert_exporter": "python",
   "pygments_lexer": "ipython3",
   "version": "3.10.14"
  }
 },
 "nbformat": 4,
 "nbformat_minor": 2
}
